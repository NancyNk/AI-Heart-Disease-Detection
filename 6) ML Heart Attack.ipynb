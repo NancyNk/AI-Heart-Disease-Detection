{
 "cells": [
  {
   "cell_type": "markdown",
   "id": "0b30012c",
   "metadata": {},
   "source": [
    "# importing libraries"
   ]
  },
  {
   "cell_type": "code",
   "execution_count": 1,
   "id": "85f7fd63",
   "metadata": {},
   "outputs": [],
   "source": [
    "import numpy as np\n",
    "import pandas as pd\n",
    "import matplotlib.pyplot as plt\n",
    "import seaborn as sns"
   ]
  },
  {
   "cell_type": "markdown",
   "id": "807da4ff",
   "metadata": {},
   "source": [
    "# Data Collection and Processing"
   ]
  },
  {
   "cell_type": "code",
   "execution_count": 2,
   "id": "c4308554",
   "metadata": {},
   "outputs": [
    {
     "data": {
      "text/html": [
       "<div>\n",
       "<style scoped>\n",
       "    .dataframe tbody tr th:only-of-type {\n",
       "        vertical-align: middle;\n",
       "    }\n",
       "\n",
       "    .dataframe tbody tr th {\n",
       "        vertical-align: top;\n",
       "    }\n",
       "\n",
       "    .dataframe thead th {\n",
       "        text-align: right;\n",
       "    }\n",
       "</style>\n",
       "<table border=\"1\" class=\"dataframe\">\n",
       "  <thead>\n",
       "    <tr style=\"text-align: right;\">\n",
       "      <th></th>\n",
       "      <th>age</th>\n",
       "      <th>gender</th>\n",
       "      <th>impluse</th>\n",
       "      <th>pressurehight</th>\n",
       "      <th>pressurelow</th>\n",
       "      <th>glucose</th>\n",
       "      <th>kcm</th>\n",
       "      <th>troponin</th>\n",
       "      <th>class</th>\n",
       "    </tr>\n",
       "  </thead>\n",
       "  <tbody>\n",
       "    <tr>\n",
       "      <th>0</th>\n",
       "      <td>64</td>\n",
       "      <td>1</td>\n",
       "      <td>66</td>\n",
       "      <td>160</td>\n",
       "      <td>83</td>\n",
       "      <td>160.0</td>\n",
       "      <td>1.80</td>\n",
       "      <td>0.012</td>\n",
       "      <td>negative</td>\n",
       "    </tr>\n",
       "    <tr>\n",
       "      <th>1</th>\n",
       "      <td>21</td>\n",
       "      <td>1</td>\n",
       "      <td>94</td>\n",
       "      <td>98</td>\n",
       "      <td>46</td>\n",
       "      <td>296.0</td>\n",
       "      <td>6.75</td>\n",
       "      <td>1.060</td>\n",
       "      <td>positive</td>\n",
       "    </tr>\n",
       "    <tr>\n",
       "      <th>2</th>\n",
       "      <td>55</td>\n",
       "      <td>1</td>\n",
       "      <td>64</td>\n",
       "      <td>160</td>\n",
       "      <td>77</td>\n",
       "      <td>270.0</td>\n",
       "      <td>1.99</td>\n",
       "      <td>0.003</td>\n",
       "      <td>negative</td>\n",
       "    </tr>\n",
       "    <tr>\n",
       "      <th>3</th>\n",
       "      <td>64</td>\n",
       "      <td>1</td>\n",
       "      <td>70</td>\n",
       "      <td>120</td>\n",
       "      <td>55</td>\n",
       "      <td>270.0</td>\n",
       "      <td>13.87</td>\n",
       "      <td>0.122</td>\n",
       "      <td>positive</td>\n",
       "    </tr>\n",
       "    <tr>\n",
       "      <th>4</th>\n",
       "      <td>55</td>\n",
       "      <td>1</td>\n",
       "      <td>64</td>\n",
       "      <td>112</td>\n",
       "      <td>65</td>\n",
       "      <td>300.0</td>\n",
       "      <td>1.08</td>\n",
       "      <td>0.003</td>\n",
       "      <td>negative</td>\n",
       "    </tr>\n",
       "  </tbody>\n",
       "</table>\n",
       "</div>"
      ],
      "text/plain": [
       "   age  gender  impluse  pressurehight  pressurelow  glucose    kcm  troponin  \\\n",
       "0   64       1       66            160           83    160.0   1.80     0.012   \n",
       "1   21       1       94             98           46    296.0   6.75     1.060   \n",
       "2   55       1       64            160           77    270.0   1.99     0.003   \n",
       "3   64       1       70            120           55    270.0  13.87     0.122   \n",
       "4   55       1       64            112           65    300.0   1.08     0.003   \n",
       "\n",
       "      class  \n",
       "0  negative  \n",
       "1  positive  \n",
       "2  negative  \n",
       "3  positive  \n",
       "4  negative  "
      ]
     },
     "execution_count": 2,
     "metadata": {},
     "output_type": "execute_result"
    }
   ],
   "source": [
    "# loading the csv data to a Pandas DataFrame\n",
    "data=pd.read_csv('Heart Attack.csv')\n",
    "# print first 5 rows of the dataset\n",
    "data.head()"
   ]
  },
  {
   "cell_type": "code",
   "execution_count": 3,
   "id": "78d5ecf4",
   "metadata": {},
   "outputs": [
    {
     "name": "stdout",
     "output_type": "stream",
     "text": [
      "<class 'pandas.core.frame.DataFrame'>\n",
      "RangeIndex: 1319 entries, 0 to 1318\n",
      "Data columns (total 9 columns):\n",
      " #   Column         Non-Null Count  Dtype  \n",
      "---  ------         --------------  -----  \n",
      " 0   age            1319 non-null   int64  \n",
      " 1   gender         1319 non-null   int64  \n",
      " 2   impluse        1319 non-null   int64  \n",
      " 3   pressurehight  1319 non-null   int64  \n",
      " 4   pressurelow    1319 non-null   int64  \n",
      " 5   glucose        1319 non-null   float64\n",
      " 6   kcm            1319 non-null   float64\n",
      " 7   troponin       1319 non-null   float64\n",
      " 8   class          1319 non-null   object \n",
      "dtypes: float64(3), int64(5), object(1)\n",
      "memory usage: 92.9+ KB\n"
     ]
    }
   ],
   "source": [
    "# getting some info about the data\n",
    "data.info()"
   ]
  },
  {
   "cell_type": "code",
   "execution_count": 4,
   "id": "a097a87a",
   "metadata": {},
   "outputs": [
    {
     "data": {
      "text/plain": [
       "(1319, 9)"
      ]
     },
     "execution_count": 4,
     "metadata": {},
     "output_type": "execute_result"
    }
   ],
   "source": [
    "# number of rows and columns in the dataset\n",
    "data.shape"
   ]
  },
  {
   "cell_type": "code",
   "execution_count": 5,
   "id": "fb7dfde6",
   "metadata": {},
   "outputs": [
    {
     "data": {
      "text/plain": [
       "age              0\n",
       "gender           0\n",
       "impluse          0\n",
       "pressurehight    0\n",
       "pressurelow      0\n",
       "glucose          0\n",
       "kcm              0\n",
       "troponin         0\n",
       "class            0\n",
       "dtype: int64"
      ]
     },
     "execution_count": 5,
     "metadata": {},
     "output_type": "execute_result"
    }
   ],
   "source": [
    "# checking for missing values\n",
    "data.isnull().sum()"
   ]
  },
  {
   "cell_type": "code",
   "execution_count": 6,
   "id": "b04f9a6c",
   "metadata": {},
   "outputs": [
    {
     "data": {
      "text/html": [
       "<div>\n",
       "<style scoped>\n",
       "    .dataframe tbody tr th:only-of-type {\n",
       "        vertical-align: middle;\n",
       "    }\n",
       "\n",
       "    .dataframe tbody tr th {\n",
       "        vertical-align: top;\n",
       "    }\n",
       "\n",
       "    .dataframe thead th {\n",
       "        text-align: right;\n",
       "    }\n",
       "</style>\n",
       "<table border=\"1\" class=\"dataframe\">\n",
       "  <thead>\n",
       "    <tr style=\"text-align: right;\">\n",
       "      <th></th>\n",
       "      <th>age</th>\n",
       "      <th>gender</th>\n",
       "      <th>impluse</th>\n",
       "      <th>pressurehight</th>\n",
       "      <th>pressurelow</th>\n",
       "      <th>glucose</th>\n",
       "      <th>kcm</th>\n",
       "      <th>troponin</th>\n",
       "    </tr>\n",
       "  </thead>\n",
       "  <tbody>\n",
       "    <tr>\n",
       "      <th>count</th>\n",
       "      <td>1319.000000</td>\n",
       "      <td>1319.000000</td>\n",
       "      <td>1319.000000</td>\n",
       "      <td>1319.000000</td>\n",
       "      <td>1319.000000</td>\n",
       "      <td>1319.000000</td>\n",
       "      <td>1319.000000</td>\n",
       "      <td>1319.000000</td>\n",
       "    </tr>\n",
       "    <tr>\n",
       "      <th>mean</th>\n",
       "      <td>56.191812</td>\n",
       "      <td>0.659591</td>\n",
       "      <td>78.336619</td>\n",
       "      <td>127.170584</td>\n",
       "      <td>72.269143</td>\n",
       "      <td>146.634344</td>\n",
       "      <td>15.274306</td>\n",
       "      <td>0.360942</td>\n",
       "    </tr>\n",
       "    <tr>\n",
       "      <th>std</th>\n",
       "      <td>13.647315</td>\n",
       "      <td>0.474027</td>\n",
       "      <td>51.630270</td>\n",
       "      <td>26.122720</td>\n",
       "      <td>14.033924</td>\n",
       "      <td>74.923045</td>\n",
       "      <td>46.327083</td>\n",
       "      <td>1.154568</td>\n",
       "    </tr>\n",
       "    <tr>\n",
       "      <th>min</th>\n",
       "      <td>14.000000</td>\n",
       "      <td>0.000000</td>\n",
       "      <td>20.000000</td>\n",
       "      <td>42.000000</td>\n",
       "      <td>38.000000</td>\n",
       "      <td>35.000000</td>\n",
       "      <td>0.321000</td>\n",
       "      <td>0.001000</td>\n",
       "    </tr>\n",
       "    <tr>\n",
       "      <th>25%</th>\n",
       "      <td>47.000000</td>\n",
       "      <td>0.000000</td>\n",
       "      <td>64.000000</td>\n",
       "      <td>110.000000</td>\n",
       "      <td>62.000000</td>\n",
       "      <td>98.000000</td>\n",
       "      <td>1.655000</td>\n",
       "      <td>0.006000</td>\n",
       "    </tr>\n",
       "    <tr>\n",
       "      <th>50%</th>\n",
       "      <td>58.000000</td>\n",
       "      <td>1.000000</td>\n",
       "      <td>74.000000</td>\n",
       "      <td>124.000000</td>\n",
       "      <td>72.000000</td>\n",
       "      <td>116.000000</td>\n",
       "      <td>2.850000</td>\n",
       "      <td>0.014000</td>\n",
       "    </tr>\n",
       "    <tr>\n",
       "      <th>75%</th>\n",
       "      <td>65.000000</td>\n",
       "      <td>1.000000</td>\n",
       "      <td>85.000000</td>\n",
       "      <td>143.000000</td>\n",
       "      <td>81.000000</td>\n",
       "      <td>169.500000</td>\n",
       "      <td>5.805000</td>\n",
       "      <td>0.085500</td>\n",
       "    </tr>\n",
       "    <tr>\n",
       "      <th>max</th>\n",
       "      <td>103.000000</td>\n",
       "      <td>1.000000</td>\n",
       "      <td>1111.000000</td>\n",
       "      <td>223.000000</td>\n",
       "      <td>154.000000</td>\n",
       "      <td>541.000000</td>\n",
       "      <td>300.000000</td>\n",
       "      <td>10.300000</td>\n",
       "    </tr>\n",
       "  </tbody>\n",
       "</table>\n",
       "</div>"
      ],
      "text/plain": [
       "               age       gender      impluse  pressurehight  pressurelow  \\\n",
       "count  1319.000000  1319.000000  1319.000000    1319.000000  1319.000000   \n",
       "mean     56.191812     0.659591    78.336619     127.170584    72.269143   \n",
       "std      13.647315     0.474027    51.630270      26.122720    14.033924   \n",
       "min      14.000000     0.000000    20.000000      42.000000    38.000000   \n",
       "25%      47.000000     0.000000    64.000000     110.000000    62.000000   \n",
       "50%      58.000000     1.000000    74.000000     124.000000    72.000000   \n",
       "75%      65.000000     1.000000    85.000000     143.000000    81.000000   \n",
       "max     103.000000     1.000000  1111.000000     223.000000   154.000000   \n",
       "\n",
       "           glucose          kcm     troponin  \n",
       "count  1319.000000  1319.000000  1319.000000  \n",
       "mean    146.634344    15.274306     0.360942  \n",
       "std      74.923045    46.327083     1.154568  \n",
       "min      35.000000     0.321000     0.001000  \n",
       "25%      98.000000     1.655000     0.006000  \n",
       "50%     116.000000     2.850000     0.014000  \n",
       "75%     169.500000     5.805000     0.085500  \n",
       "max     541.000000   300.000000    10.300000  "
      ]
     },
     "execution_count": 6,
     "metadata": {},
     "output_type": "execute_result"
    }
   ],
   "source": [
    "# statistical measures about the data\n",
    "data.describe()"
   ]
  },
  {
   "cell_type": "code",
   "execution_count": 7,
   "id": "1bd481b5",
   "metadata": {},
   "outputs": [
    {
     "data": {
      "text/plain": [
       "0"
      ]
     },
     "execution_count": 7,
     "metadata": {},
     "output_type": "execute_result"
    }
   ],
   "source": [
    "#check if there is any duplicated data\n",
    "data.duplicated().sum()"
   ]
  },
  {
   "cell_type": "markdown",
   "id": "cd725867",
   "metadata": {},
   "source": [
    "# Data preprocessing"
   ]
  },
  {
   "cell_type": "code",
   "execution_count": 8,
   "id": "9a279148",
   "metadata": {},
   "outputs": [],
   "source": [
    "from sklearn.preprocessing import LabelEncoder\n",
    "from sklearn import preprocessing\n",
    "encoder=preprocessing.LabelEncoder()\n",
    "data['class']=encoder.fit_transform(data['class'])"
   ]
  },
  {
   "cell_type": "code",
   "execution_count": 9,
   "id": "cc16199a",
   "metadata": {},
   "outputs": [
    {
     "data": {
      "text/html": [
       "<div>\n",
       "<style scoped>\n",
       "    .dataframe tbody tr th:only-of-type {\n",
       "        vertical-align: middle;\n",
       "    }\n",
       "\n",
       "    .dataframe tbody tr th {\n",
       "        vertical-align: top;\n",
       "    }\n",
       "\n",
       "    .dataframe thead th {\n",
       "        text-align: right;\n",
       "    }\n",
       "</style>\n",
       "<table border=\"1\" class=\"dataframe\">\n",
       "  <thead>\n",
       "    <tr style=\"text-align: right;\">\n",
       "      <th></th>\n",
       "      <th>age</th>\n",
       "      <th>gender</th>\n",
       "      <th>impluse</th>\n",
       "      <th>pressurehight</th>\n",
       "      <th>pressurelow</th>\n",
       "      <th>glucose</th>\n",
       "      <th>kcm</th>\n",
       "      <th>troponin</th>\n",
       "      <th>class</th>\n",
       "    </tr>\n",
       "  </thead>\n",
       "  <tbody>\n",
       "    <tr>\n",
       "      <th>0</th>\n",
       "      <td>64</td>\n",
       "      <td>1</td>\n",
       "      <td>66</td>\n",
       "      <td>160</td>\n",
       "      <td>83</td>\n",
       "      <td>160.0</td>\n",
       "      <td>1.80</td>\n",
       "      <td>0.012</td>\n",
       "      <td>0</td>\n",
       "    </tr>\n",
       "    <tr>\n",
       "      <th>1</th>\n",
       "      <td>21</td>\n",
       "      <td>1</td>\n",
       "      <td>94</td>\n",
       "      <td>98</td>\n",
       "      <td>46</td>\n",
       "      <td>296.0</td>\n",
       "      <td>6.75</td>\n",
       "      <td>1.060</td>\n",
       "      <td>1</td>\n",
       "    </tr>\n",
       "    <tr>\n",
       "      <th>2</th>\n",
       "      <td>55</td>\n",
       "      <td>1</td>\n",
       "      <td>64</td>\n",
       "      <td>160</td>\n",
       "      <td>77</td>\n",
       "      <td>270.0</td>\n",
       "      <td>1.99</td>\n",
       "      <td>0.003</td>\n",
       "      <td>0</td>\n",
       "    </tr>\n",
       "    <tr>\n",
       "      <th>3</th>\n",
       "      <td>64</td>\n",
       "      <td>1</td>\n",
       "      <td>70</td>\n",
       "      <td>120</td>\n",
       "      <td>55</td>\n",
       "      <td>270.0</td>\n",
       "      <td>13.87</td>\n",
       "      <td>0.122</td>\n",
       "      <td>1</td>\n",
       "    </tr>\n",
       "    <tr>\n",
       "      <th>4</th>\n",
       "      <td>55</td>\n",
       "      <td>1</td>\n",
       "      <td>64</td>\n",
       "      <td>112</td>\n",
       "      <td>65</td>\n",
       "      <td>300.0</td>\n",
       "      <td>1.08</td>\n",
       "      <td>0.003</td>\n",
       "      <td>0</td>\n",
       "    </tr>\n",
       "  </tbody>\n",
       "</table>\n",
       "</div>"
      ],
      "text/plain": [
       "   age  gender  impluse  pressurehight  pressurelow  glucose    kcm  troponin  \\\n",
       "0   64       1       66            160           83    160.0   1.80     0.012   \n",
       "1   21       1       94             98           46    296.0   6.75     1.060   \n",
       "2   55       1       64            160           77    270.0   1.99     0.003   \n",
       "3   64       1       70            120           55    270.0  13.87     0.122   \n",
       "4   55       1       64            112           65    300.0   1.08     0.003   \n",
       "\n",
       "   class  \n",
       "0      0  \n",
       "1      1  \n",
       "2      0  \n",
       "3      1  \n",
       "4      0  "
      ]
     },
     "execution_count": 9,
     "metadata": {},
     "output_type": "execute_result"
    }
   ],
   "source": [
    "data.head()"
   ]
  },
  {
   "cell_type": "markdown",
   "id": "6b4fb3e2",
   "metadata": {},
   "source": [
    "# Corellation"
   ]
  },
  {
   "cell_type": "code",
   "execution_count": 10,
   "id": "db516426",
   "metadata": {},
   "outputs": [],
   "source": [
    "correlation=data.corr()"
   ]
  },
  {
   "cell_type": "code",
   "execution_count": 12,
   "id": "1fb456c6",
   "metadata": {},
   "outputs": [
    {
     "data": {
      "text/plain": [
       "<AxesSubplot:>"
      ]
     },
     "execution_count": 12,
     "metadata": {},
     "output_type": "execute_result"
    },
    {
     "data": {
      "image/png": "[encoded data removed]",
      "text/plain": [
       "<Figure size 864x576 with 2 Axes>"
      ]
     },
     "metadata": {
      "needs_background": "light"
     },
     "output_type": "display_data"
    }
   ],
   "source": [
    "plt.figure(figsize=(12,8))\n",
    "sns.heatmap(correlation ,annot=True ,cbar=True ,cmap='Greens')"
   ]
  },
  {
   "cell_type": "markdown",
   "id": "5261790d",
   "metadata": {},
   "source": [
    "# Data Analysis"
   ]
  },
  {
   "cell_type": "code",
   "execution_count": 13,
   "id": "32ed7103",
   "metadata": {},
   "outputs": [
    {
     "data": {
      "text/html": [
       "<div>\n",
       "<style scoped>\n",
       "    .dataframe tbody tr th:only-of-type {\n",
       "        vertical-align: middle;\n",
       "    }\n",
       "\n",
       "    .dataframe tbody tr th {\n",
       "        vertical-align: top;\n",
       "    }\n",
       "\n",
       "    .dataframe thead th {\n",
       "        text-align: right;\n",
       "    }\n",
       "</style>\n",
       "<table border=\"1\" class=\"dataframe\">\n",
       "  <thead>\n",
       "    <tr style=\"text-align: right;\">\n",
       "      <th></th>\n",
       "      <th>index</th>\n",
       "      <th>count</th>\n",
       "    </tr>\n",
       "  </thead>\n",
       "  <tbody>\n",
       "    <tr>\n",
       "      <th>0</th>\n",
       "      <td>1</td>\n",
       "      <td>810</td>\n",
       "    </tr>\n",
       "    <tr>\n",
       "      <th>1</th>\n",
       "      <td>0</td>\n",
       "      <td>509</td>\n",
       "    </tr>\n",
       "  </tbody>\n",
       "</table>\n",
       "</div>"
      ],
      "text/plain": [
       "   index  count\n",
       "0      1    810\n",
       "1      0    509"
      ]
     },
     "execution_count": 13,
     "metadata": {},
     "output_type": "execute_result"
    },
    {
     "data": {
      "image/png": "[encoded data removed]",
      "text/plain": [
       "<Figure size 432x288 with 1 Axes>"
      ]
     },
     "metadata": {
      "needs_background": "light"
     },
     "output_type": "display_data"
    }
   ],
   "source": [
    "sns.countplot(data=data,x='class',palette='Set2')\n",
    "data['class'].value_counts().reset_index(name='count')"
   ]
  },
  {
   "cell_type": "code",
   "execution_count": 38,
   "id": "bae235e7",
   "metadata": {},
   "outputs": [
    {
     "data": {
      "text/plain": [
       "<AxesSubplot:xlabel='class', ylabel='count'>"
      ]
     },
     "execution_count": 38,
     "metadata": {},
     "output_type": "execute_result"
    },
    {
     "data": {
      "image/png": "[encoded data removed]",
      "text/plain": [
       "<Figure size 432x288 with 1 Axes>"
      ]
     },
     "metadata": {
      "needs_background": "light"
     },
     "output_type": "display_data"
    }
   ],
   "source": [
    "sns.countplot(data=data ,x='class' ,hue='gender' ,palette='Set1' )\n"
   ]
  },
  {
   "cell_type": "code",
   "execution_count": 39,
   "id": "08168949",
   "metadata": {},
   "outputs": [
    {
     "data": {
      "text/plain": [
       "<AxesSubplot:>"
      ]
     },
     "execution_count": 39,
     "metadata": {},
     "output_type": "execute_result"
    },
    {
     "data": {
      "image/png": "[encoded data removed]",
      "text/plain": [
       "<Figure size 864x576 with 1 Axes>"
      ]
     },
     "metadata": {
      "needs_background": "light"
     },
     "output_type": "display_data"
    }
   ],
   "source": [
    "plt.figure(figsize=(12,8))\n",
    "sns.boxplot(data=data)"
   ]
  },
  {
   "cell_type": "code",
   "execution_count": 41,
   "id": "1642f359",
   "metadata": {},
   "outputs": [
    {
     "data": {
      "text/plain": [
       "<AxesSubplot:xlabel='age', ylabel='Count'>"
      ]
     },
     "execution_count": 41,
     "metadata": {},
     "output_type": "execute_result"
    },
    {
     "data": {
      "image/png": "[encoded data removed]",
      "text/plain": [
       "<Figure size 432x288 with 1 Axes>"
      ]
     },
     "metadata": {
      "needs_background": "light"
     },
     "output_type": "display_data"
    }
   ],
   "source": [
    "sns.histplot(data=data, x='age')"
   ]
  },
  {
   "cell_type": "markdown",
   "id": "4b7badf5",
   "metadata": {},
   "source": [
    "# Spliting data"
   ]
  },
  {
   "cell_type": "code",
   "execution_count": 42,
   "id": "9f22e786",
   "metadata": {},
   "outputs": [],
   "source": [
    "X = data.drop([\"class\"] , axis = 1)\n",
    "y = data[\"class\"].values"
   ]
  },
  {
   "cell_type": "code",
   "execution_count": 43,
   "id": "5cbe4268",
   "metadata": {},
   "outputs": [],
   "source": [
    "from sklearn.model_selection import train_test_split"
   ]
  },
  {
   "cell_type": "code",
   "execution_count": 45,
   "id": "6827f488",
   "metadata": {},
   "outputs": [],
   "source": [
    "X_train , X_test , y_train ,y_test = train_test_split(X,y , test_size= 0.2 , random_state= 42)"
   ]
  },
  {
   "cell_type": "code",
   "execution_count": 49,
   "id": "9463e611",
   "metadata": {},
   "outputs": [
    {
     "data": {
      "text/plain": [
       "((1319, 8), (1055, 8), (264, 8), (1319,), (1055,), (264,))"
      ]
     },
     "execution_count": 49,
     "metadata": {},
     "output_type": "execute_result"
    }
   ],
   "source": [
    "X.shape,X_train.shape, X_test.shape,y.shape, y_train.shape, y_test.shape"
   ]
  },
  {
   "cell_type": "markdown",
   "id": "136a3674",
   "metadata": {},
   "source": [
    "# Random Forest & Grid search"
   ]
  },
  {
   "cell_type": "code",
   "execution_count": 50,
   "id": "a29142c3",
   "metadata": {},
   "outputs": [],
   "source": [
    "from sklearn.ensemble import RandomForestClassifier\n",
    "from sklearn.model_selection import GridSearchCV\n",
    "from sklearn.metrics import accuracy_score, classification_report, confusion_matrix"
   ]
  },
  {
   "cell_type": "code",
   "execution_count": 63,
   "id": "181f55ae",
   "metadata": {},
   "outputs": [
    {
     "name": "stdout",
     "output_type": "stream",
     "text": [
      "{'criterion': ['gini', 'entropy'], 'n_estimators': [10, 50, 100, 250, 500], 'max_features': ['auto', 'sqrt'], 'max_depth': [None, 2, 4, 6, 8], 'min_samples_split': [2, 5, 10], 'min_samples_leaf': [1, 2, 4], 'bootstrap': [True, False]}\n"
     ]
    }
   ],
   "source": [
    "criterion = ['gini', 'entropy']\n",
    "# Number of trees in random forest\n",
    "n_estimators = [10, 50, 100, 250, 500]\n",
    "# Number of features to consider at every split\n",
    "max_features = ['auto', 'sqrt']\n",
    "# Maximum number of levels in tree\n",
    "max_depth = [None, 2,  4, 6, 8]\n",
    "# Minimum number of samples required to split a node\n",
    "min_samples_split = [2, 5, 10]\n",
    "# Minimum number of samples required at each leaf node\n",
    "min_samples_leaf = [1, 2, 4]\n",
    "# Method of selecting samples for training each tree\n",
    "bootstrap = [True, False]\n",
    "# Create the random grid\n",
    "param_grid  = {'criterion':criterion,\n",
    "               'n_estimators': n_estimators,\n",
    "               'max_features': max_features,\n",
    "               'max_depth': max_depth,\n",
    "               'min_samples_split': min_samples_split,\n",
    "               'min_samples_leaf': min_samples_leaf,\n",
    "               'bootstrap': bootstrap}\n",
    "print(param_grid)"
   ]
  },
  {
   "cell_type": "code",
   "execution_count": 64,
   "id": "c72fadf0",
   "metadata": {},
   "outputs": [
    {
     "name": "stdout",
     "output_type": "stream",
     "text": [
      "Fitting 3 folds for each of 1800 candidates, totalling 5400 fits\n"
     ]
    },
    {
     "data": {
      "text/plain": [
       "GridSearchCV(cv=3, estimator=RandomForestClassifier(), n_jobs=-1,\n",
       "             param_grid={'bootstrap': [True, False],\n",
       "                         'criterion': ['gini', 'entropy'],\n",
       "                         'max_depth': [None, 2, 4, 6, 8],\n",
       "                         'max_features': ['auto', 'sqrt'],\n",
       "                         'min_samples_leaf': [1, 2, 4],\n",
       "                         'min_samples_split': [2, 5, 10],\n",
       "                         'n_estimators': [10, 50, 100, 250, 500]},\n",
       "             verbose=2)"
      ]
     },
     "execution_count": 64,
     "metadata": {},
     "output_type": "execute_result"
    }
   ],
   "source": [
    "#rf = RandomForestClassifier()\n",
    "rf_random = GridSearchCV(RandomForestClassifier(), param_grid  , cv = 3, verbose=2, n_jobs = -1)\n",
    "rf_random.fit(X_train,y_train)"
   ]
  },
  {
   "cell_type": "code",
   "execution_count": 65,
   "id": "b5fa4b3b",
   "metadata": {},
   "outputs": [
    {
     "data": {
      "text/plain": [
       "{'bootstrap': False,\n",
       " 'criterion': 'entropy',\n",
       " 'max_depth': None,\n",
       " 'max_features': 'sqrt',\n",
       " 'min_samples_leaf': 2,\n",
       " 'min_samples_split': 10,\n",
       " 'n_estimators': 10}"
      ]
     },
     "execution_count": 65,
     "metadata": {},
     "output_type": "execute_result"
    }
   ],
   "source": [
    "rf_random.best_params_"
   ]
  },
  {
   "cell_type": "code",
   "execution_count": 71,
   "id": "fcf84402",
   "metadata": {},
   "outputs": [],
   "source": [
    "randomforestmodel=RandomForestClassifier(n_estimators= 10,\n",
    " min_samples_split = 10,\n",
    " min_samples_leaf = 2,\n",
    " max_features = 'sqrt',\n",
    " max_depth= None,\n",
    " bootstrap= False,\n",
    " criterion='entropy')"
   ]
  },
  {
   "cell_type": "code",
   "execution_count": 72,
   "id": "4840a3a2",
   "metadata": {},
   "outputs": [
    {
     "data": {
      "text/plain": [
       "RandomForestClassifier(bootstrap=False, criterion='entropy',\n",
       "                       max_features='sqrt', min_samples_leaf=2,\n",
       "                       min_samples_split=10, n_estimators=10)"
      ]
     },
     "execution_count": 72,
     "metadata": {},
     "output_type": "execute_result"
    }
   ],
   "source": [
    "randomforestmodel.fit(X_train,y_train)"
   ]
  },
  {
   "cell_type": "code",
   "execution_count": 73,
   "id": "54a296e9",
   "metadata": {},
   "outputs": [],
   "source": [
    "y_pred_rf=randomforestmodel.predict(X_test)"
   ]
  },
  {
   "cell_type": "code",
   "execution_count": 74,
   "id": "b256d850",
   "metadata": {},
   "outputs": [],
   "source": [
    "rf_accuracy = accuracy_score(y_test, y_pred_rf)\n",
    "rf_conf_matrix = confusion_matrix(y_test, y_pred_rf)\n",
    "rf_classification_rep = classification_report(y_test, y_pred_rf)"
   ]
  },
  {
   "cell_type": "code",
   "execution_count": 75,
   "id": "d709f36c",
   "metadata": {},
   "outputs": [
    {
     "name": "stdout",
     "output_type": "stream",
     "text": [
      "rf_Accuracy: 0.97\n",
      "\n",
      "rf_Confusion Matrix:\n",
      "[[ 96   5]\n",
      " [  2 161]]\n",
      "\n",
      "rf_Classification Report:\n",
      "              precision    recall  f1-score   support\n",
      "\n",
      "           0       0.98      0.95      0.96       101\n",
      "           1       0.97      0.99      0.98       163\n",
      "\n",
      "    accuracy                           0.97       264\n",
      "   macro avg       0.97      0.97      0.97       264\n",
      "weighted avg       0.97      0.97      0.97       264\n",
      "\n"
     ]
    }
   ],
   "source": [
    "print(f'rf_Accuracy: {rf_accuracy:.2f}')\n",
    "print('\\nrf_Confusion Matrix:')\n",
    "print(rf_conf_matrix)\n",
    "print('\\nrf_Classification Report:')\n",
    "print(rf_classification_rep)"
   ]
  },
  {
   "cell_type": "code",
   "execution_count": 76,
   "id": "f7baffee",
   "metadata": {},
   "outputs": [
    {
     "data": {
      "text/plain": [
       "<AxesSubplot:>"
      ]
     },
     "execution_count": 76,
     "metadata": {},
     "output_type": "execute_result"
    },
    {
     "data": {
      "image/png": "[encoded data removed]",
      "text/plain": [
       "<Figure size 432x288 with 2 Axes>"
      ]
     },
     "metadata": {
      "needs_background": "light"
     },
     "output_type": "display_data"
    }
   ],
   "source": [
    "sns.heatmap(rf_conf_matrix, annot=True)"
   ]
  },
  {
   "cell_type": "markdown",
   "id": "68c83746",
   "metadata": {},
   "source": [
    "# DECISION TREE MODEL"
   ]
  },
  {
   "cell_type": "code",
   "execution_count": 77,
   "id": "d1fa58a8",
   "metadata": {},
   "outputs": [],
   "source": [
    "from sklearn.tree import DecisionTreeClassifier"
   ]
  },
  {
   "cell_type": "code",
   "execution_count": 78,
   "id": "32023378",
   "metadata": {},
   "outputs": [],
   "source": [
    "tree_para = {'criterion':['gini','entropy'],\n",
    "             'max_depth':[1,2,3,4,5,6,7,8,9,10,11,12],\n",
    "            'min_samples_split':range(1,10),\n",
    "            'min_samples_leaf':range(1,5)}"
   ]
  },
  {
   "cell_type": "code",
   "execution_count": 79,
   "id": "d0bcacc8",
   "metadata": {},
   "outputs": [],
   "source": [
    "#DecisionTreemodel=DecisionTreeClassifier()\n",
    "clf = GridSearchCV(DecisionTreeClassifier(), tree_para)"
   ]
  },
  {
   "cell_type": "code",
   "execution_count": 81,
   "id": "4a442864",
   "metadata": {},
   "outputs": [
    {
     "name": "stderr",
     "output_type": "stream",
     "text": [
      "C:\\Users\\user\\anaconda\\lib\\site-packages\\sklearn\\model_selection\\_validation.py:372: FitFailedWarning: \n",
      "480 fits failed out of a total of 4320.\n",
      "The score on these train-test partitions for these parameters will be set to nan.\n",
      "If these failures are not expected, you can try to debug them by setting error_score='raise'.\n",
      "\n",
      "Below are more details about the failures:\n",
      "--------------------------------------------------------------------------------\n",
      "480 fits failed with the following error:\n",
      "Traceback (most recent call last):\n",
      "  File \"C:\\Users\\user\\anaconda\\lib\\site-packages\\sklearn\\model_selection\\_validation.py\", line 680, in _fit_and_score\n",
      "    estimator.fit(X_train, y_train, **fit_params)\n",
      "  File \"C:\\Users\\user\\anaconda\\lib\\site-packages\\sklearn\\tree\\_classes.py\", line 937, in fit\n",
      "    super().fit(\n",
      "  File \"C:\\Users\\user\\anaconda\\lib\\site-packages\\sklearn\\tree\\_classes.py\", line 250, in fit\n",
      "    raise ValueError(\n",
      "ValueError: min_samples_split must be an integer greater than 1 or a float in (0.0, 1.0]; got the integer 1\n",
      "\n",
      "  warnings.warn(some_fits_failed_message, FitFailedWarning)\n",
      "C:\\Users\\user\\anaconda\\lib\\site-packages\\sklearn\\model_selection\\_search.py:969: UserWarning: One or more of the test scores are non-finite: [       nan 0.87582938 0.87582938 0.87582938 0.87582938 0.87582938\n",
      " 0.87582938 0.87582938 0.87582938        nan 0.87582938 0.87582938\n",
      " 0.87582938 0.87582938 0.87582938 0.87582938 0.87582938 0.87582938\n",
      "        nan 0.87582938 0.87582938 0.87582938 0.87582938 0.87582938\n",
      " 0.87582938 0.87582938 0.87582938        nan 0.87582938 0.87582938\n",
      " 0.87582938 0.87582938 0.87582938 0.87582938 0.87582938 0.87582938\n",
      "        nan 0.98862559 0.98862559 0.98862559 0.98862559 0.98862559\n",
      " 0.98862559 0.98862559 0.98862559        nan 0.98862559 0.98862559\n",
      " 0.98862559 0.98862559 0.98862559 0.98862559 0.98862559 0.98862559\n",
      "        nan 0.98862559 0.98862559 0.98862559 0.98862559 0.98862559\n",
      " 0.98862559 0.98862559 0.98862559        nan 0.98862559 0.98862559\n",
      " 0.98862559 0.98862559 0.98862559 0.98862559 0.98862559 0.98862559\n",
      "        nan 0.98767773 0.98767773 0.98767773 0.98767773 0.98767773\n",
      " 0.98767773 0.98767773 0.98767773        nan 0.98862559 0.98862559\n",
      " 0.98862559 0.98862559 0.98862559 0.98862559 0.98862559 0.98862559\n",
      "        nan 0.98862559 0.98862559 0.98862559 0.98862559 0.98862559\n",
      " 0.98862559 0.98862559 0.98862559        nan 0.98862559 0.98862559\n",
      " 0.98862559 0.98862559 0.98862559 0.98862559 0.98862559 0.98862559\n",
      "        nan 0.99336493 0.99336493 0.99336493 0.99336493 0.99336493\n",
      " 0.99336493 0.99336493 0.99336493        nan 0.99336493 0.99336493\n",
      " 0.9943128  0.99146919 0.9943128  0.9943128  0.9943128  0.9943128\n",
      "        nan 0.9943128  0.9943128  0.9943128  0.9943128  0.9943128\n",
      " 0.9943128  0.9943128  0.9943128         nan 0.9943128  0.9943128\n",
      " 0.9943128  0.9943128  0.9943128  0.9943128  0.9943128  0.9943128\n",
      "        nan 0.99241706 0.99241706 0.99336493 0.99336493 0.99336493\n",
      " 0.99241706 0.99241706 0.99241706        nan 0.99241706 0.99241706\n",
      " 0.99241706 0.99241706 0.99241706 0.99336493 0.9943128  0.9943128\n",
      "        nan 0.9943128  0.9943128  0.9943128  0.9943128  0.9943128\n",
      " 0.9943128  0.9943128  0.9943128         nan 0.9943128  0.9943128\n",
      " 0.9943128  0.9943128  0.9943128  0.9943128  0.9943128  0.9943128\n",
      "        nan 0.99241706 0.99336493 0.99241706 0.99336493 0.99241706\n",
      " 0.99336493 0.99336493 0.99336493        nan 0.99241706 0.99336493\n",
      " 0.99146919 0.9943128  0.99241706 0.9943128  0.99336493 0.9943128\n",
      "        nan 0.9943128  0.9943128  0.9943128  0.9943128  0.9943128\n",
      " 0.9943128  0.9943128  0.9943128         nan 0.9943128  0.9943128\n",
      " 0.9943128  0.9943128  0.9943128  0.9943128  0.9943128  0.9943128\n",
      "        nan 0.99336493 0.99336493 0.99241706 0.99336493 0.99241706\n",
      " 0.99241706 0.99241706 0.99241706        nan 0.99146919 0.99146919\n",
      " 0.98957346 0.99146919 0.99241706 0.99241706 0.9943128  0.9943128\n",
      "        nan 0.9943128  0.9943128  0.9943128  0.9943128  0.9943128\n",
      " 0.9943128  0.9943128  0.9943128         nan 0.9943128  0.9943128\n",
      " 0.9943128  0.9943128  0.9943128  0.9943128  0.9943128  0.9943128\n",
      "        nan 0.99241706 0.99241706 0.99241706 0.99336493 0.99241706\n",
      " 0.99336493 0.99336493 0.99336493        nan 0.99241706 0.99146919\n",
      " 0.99241706 0.99146919 0.99336493 0.9943128  0.9943128  0.9943128\n",
      "        nan 0.9943128  0.9943128  0.9943128  0.9943128  0.9943128\n",
      " 0.9943128  0.9943128  0.9943128         nan 0.9943128  0.9943128\n",
      " 0.9943128  0.9943128  0.9943128  0.9943128  0.9943128  0.9943128\n",
      "        nan 0.99336493 0.99336493 0.99241706 0.99241706 0.99336493\n",
      " 0.99241706 0.99336493 0.99241706        nan 0.99241706 0.98957346\n",
      " 0.99241706 0.99146919 0.9943128  0.99241706 0.99336493 0.9943128\n",
      "        nan 0.9943128  0.9943128  0.9943128  0.9943128  0.9943128\n",
      " 0.9943128  0.9943128  0.9943128         nan 0.9943128  0.9943128\n",
      " 0.9943128  0.9943128  0.9943128  0.9943128  0.9943128  0.9943128\n",
      "        nan 0.99336493 0.99336493 0.99336493 0.99241706 0.99241706\n",
      " 0.99241706 0.99336493 0.99336493        nan 0.99052133 0.99052133\n",
      " 0.99336493 0.99241706 0.99241706 0.99241706 0.99336493 0.9943128\n",
      "        nan 0.9943128  0.9943128  0.9943128  0.9943128  0.9943128\n",
      " 0.9943128  0.9943128  0.9943128         nan 0.9943128  0.9943128\n",
      " 0.9943128  0.9943128  0.9943128  0.9943128  0.9943128  0.9943128\n",
      "        nan 0.99241706 0.99241706 0.99241706 0.99241706 0.99336493\n",
      " 0.99241706 0.99241706 0.99336493        nan 0.99336493 0.99336493\n",
      " 0.99241706 0.99241706 0.99241706 0.99241706 0.9943128  0.9943128\n",
      "        nan 0.9943128  0.9943128  0.9943128  0.9943128  0.9943128\n",
      " 0.9943128  0.9943128  0.9943128         nan 0.9943128  0.9943128\n",
      " 0.9943128  0.9943128  0.9943128  0.9943128  0.9943128  0.9943128\n",
      "        nan 0.99241706 0.99241706 0.99336493 0.99336493 0.99336493\n",
      " 0.99336493 0.99241706 0.99241706        nan 0.99241706 0.99146919\n",
      " 0.99146919 0.99336493 0.99241706 0.99241706 0.99336493 0.9943128\n",
      "        nan 0.9943128  0.9943128  0.9943128  0.9943128  0.9943128\n",
      " 0.9943128  0.9943128  0.9943128         nan 0.9943128  0.9943128\n",
      " 0.9943128  0.9943128  0.9943128  0.9943128  0.9943128  0.9943128\n",
      "        nan 0.87582938 0.87582938 0.87582938 0.87582938 0.87582938\n",
      " 0.87582938 0.87582938 0.87582938        nan 0.87582938 0.87582938\n",
      " 0.87582938 0.87582938 0.87582938 0.87582938 0.87582938 0.87582938\n",
      "        nan 0.87582938 0.87582938 0.87582938 0.87582938 0.87582938\n",
      " 0.87582938 0.87582938 0.87582938        nan 0.87582938 0.87582938\n",
      " 0.87582938 0.87582938 0.87582938 0.87582938 0.87582938 0.87582938\n",
      "        nan 0.98862559 0.98862559 0.98862559 0.98862559 0.98862559\n",
      " 0.98862559 0.98862559 0.98862559        nan 0.98862559 0.98862559\n",
      " 0.98862559 0.98862559 0.98862559 0.98862559 0.98862559 0.98862559\n",
      "        nan 0.98862559 0.98862559 0.98862559 0.98862559 0.98862559\n",
      " 0.98862559 0.98862559 0.98862559        nan 0.98862559 0.98862559\n",
      " 0.98862559 0.98862559 0.98862559 0.98862559 0.98862559 0.98862559\n",
      "        nan 0.98767773 0.98767773 0.98767773 0.98767773 0.98767773\n",
      " 0.98767773 0.98767773 0.98767773        nan 0.98862559 0.98862559\n",
      " 0.98862559 0.98862559 0.98862559 0.98862559 0.98862559 0.98862559\n",
      "        nan 0.98862559 0.98862559 0.98862559 0.98862559 0.98862559\n",
      " 0.98862559 0.98862559 0.98862559        nan 0.98862559 0.98862559\n",
      " 0.98862559 0.98862559 0.98862559 0.98862559 0.98862559 0.98862559\n",
      "        nan 0.99336493 0.99336493 0.99336493 0.99336493 0.99336493\n",
      " 0.99336493 0.99336493 0.99336493        nan 0.99336493 0.99336493\n",
      " 0.99146919 0.9943128  0.9943128  0.9943128  0.9943128  0.9943128\n",
      "        nan 0.9943128  0.9943128  0.9943128  0.9943128  0.9943128\n",
      " 0.9943128  0.9943128  0.9943128         nan 0.9943128  0.9943128\n",
      " 0.9943128  0.9943128  0.9943128  0.9943128  0.9943128  0.9943128\n",
      "        nan 0.99336493 0.99336493 0.99336493 0.99241706 0.99336493\n",
      " 0.99241706 0.99336493 0.99336493        nan 0.99146919 0.99146919\n",
      " 0.99241706 0.99146919 0.99336493 0.99241706 0.99336493 0.9943128\n",
      "        nan 0.9943128  0.9943128  0.9943128  0.9943128  0.9943128\n",
      " 0.9943128  0.9943128  0.9943128         nan 0.9943128  0.9943128\n",
      " 0.9943128  0.9943128  0.9943128  0.9943128  0.9943128  0.9943128\n",
      "        nan 0.99336493 0.99336493 0.99241706 0.99336493 0.99241706\n",
      " 0.99336493 0.99336493 0.99241706        nan 0.99241706 0.99241706\n",
      " 0.99241706 0.99336493 0.99336493 0.99336493 0.99336493 0.9943128\n",
      "        nan 0.9943128  0.9943128  0.9943128  0.9943128  0.9943128\n",
      " 0.9943128  0.9943128  0.9943128         nan 0.9943128  0.9943128\n",
      " 0.9943128  0.9943128  0.9943128  0.9943128  0.9943128  0.9943128\n",
      "        nan 0.99336493 0.99336493 0.99241706 0.99241706 0.99336493\n",
      " 0.99241706 0.99241706 0.99336493        nan 0.99241706 0.99241706\n",
      " 0.99146919 0.99336493 0.99241706 0.99241706 0.99336493 0.9943128\n",
      "        nan 0.9943128  0.9943128  0.9943128  0.9943128  0.9943128\n",
      " 0.9943128  0.9943128  0.9943128         nan 0.9943128  0.9943128\n",
      " 0.9943128  0.9943128  0.9943128  0.9943128  0.9943128  0.9943128\n",
      "        nan 0.99336493 0.99241706 0.99241706 0.99241706 0.99336493\n",
      " 0.99241706 0.99336493 0.99336493        nan 0.99241706 0.99241706\n",
      " 0.99241706 0.99336493 0.99241706 0.99336493 0.99336493 0.9943128\n",
      "        nan 0.9943128  0.9943128  0.9943128  0.9943128  0.9943128\n",
      " 0.9943128  0.9943128  0.9943128         nan 0.9943128  0.9943128\n",
      " 0.9943128  0.9943128  0.9943128  0.9943128  0.9943128  0.9943128\n",
      "        nan 0.99336493 0.99241706 0.99241706 0.99336493 0.99241706\n",
      " 0.99241706 0.99241706 0.99241706        nan 0.99146919 0.98957346\n",
      " 0.99336493 0.99146919 0.9943128  0.99336493 0.99336493 0.9943128\n",
      "        nan 0.9943128  0.9943128  0.9943128  0.9943128  0.9943128\n",
      " 0.9943128  0.9943128  0.9943128         nan 0.9943128  0.9943128\n",
      " 0.9943128  0.9943128  0.9943128  0.9943128  0.9943128  0.9943128\n",
      "        nan 0.99241706 0.99241706 0.99241706 0.99241706 0.99336493\n",
      " 0.99336493 0.99241706 0.99241706        nan 0.99336493 0.99241706\n",
      " 0.99241706 0.98957346 0.99336493 0.99241706 0.9943128  0.9943128\n",
      "        nan 0.9943128  0.9943128  0.9943128  0.9943128  0.9943128\n",
      " 0.9943128  0.9943128  0.9943128         nan 0.9943128  0.9943128\n",
      " 0.9943128  0.9943128  0.9943128  0.9943128  0.9943128  0.9943128\n",
      "        nan 0.99241706 0.99336493 0.99336493 0.99336493 0.99336493\n",
      " 0.99336493 0.99241706 0.99241706        nan 0.99241706 0.99146919\n",
      " 0.99052133 0.99241706 0.99336493 0.9943128  0.99336493 0.9943128\n",
      "        nan 0.9943128  0.9943128  0.9943128  0.9943128  0.9943128\n",
      " 0.9943128  0.9943128  0.9943128         nan 0.9943128  0.9943128\n",
      " 0.9943128  0.9943128  0.9943128  0.9943128  0.9943128  0.9943128\n",
      "        nan 0.99336493 0.99336493 0.99241706 0.99336493 0.99241706\n",
      " 0.99336493 0.99241706 0.99336493        nan 0.98957346 0.99241706\n",
      " 0.99241706 0.99146919 0.9943128  0.99336493 0.99336493 0.9943128\n",
      "        nan 0.9943128  0.9943128  0.9943128  0.9943128  0.9943128\n",
      " 0.9943128  0.9943128  0.9943128         nan 0.9943128  0.9943128\n",
      " 0.9943128  0.9943128  0.9943128  0.9943128  0.9943128  0.9943128 ]\n",
      "  warnings.warn(\n"
     ]
    },
    {
     "data": {
      "text/plain": [
       "GridSearchCV(cv=5, estimator=DecisionTreeClassifier(),\n",
       "             param_grid={'criterion': ['gini', 'entropy'],\n",
       "                         'max_depth': [1, 2, 3, 4, 5, 6, 7, 8, 9, 10, 11, 12],\n",
       "                         'min_samples_leaf': range(1, 5),\n",
       "                         'min_samples_split': range(1, 10)})"
      ]
     },
     "execution_count": 81,
     "metadata": {},
     "output_type": "execute_result"
    }
   ],
   "source": [
    "#DecisionTreemodel=DecisionTreeClassifier()\n",
    "clf.fit(X_train, y_train)"
   ]
  },
  {
   "cell_type": "code",
   "execution_count": 82,
   "id": "66bcff38",
   "metadata": {},
   "outputs": [
    {
     "data": {
      "text/plain": [
       "{'criterion': 'gini',\n",
       " 'max_depth': 4,\n",
       " 'min_samples_leaf': 2,\n",
       " 'min_samples_split': 4}"
      ]
     },
     "execution_count": 82,
     "metadata": {},
     "output_type": "execute_result"
    }
   ],
   "source": [
    "clf.best_params_"
   ]
  },
  {
   "cell_type": "code",
   "execution_count": 84,
   "id": "6d992e14",
   "metadata": {},
   "outputs": [],
   "source": [
    "decision_tree_model=DecisionTreeClassifier(criterion='gini',\n",
    "  max_depth= 4,\n",
    "  min_samples_leaf= 2,\n",
    "  min_samples_split= 4)"
   ]
  },
  {
   "cell_type": "code",
   "execution_count": 86,
   "id": "9131b49a",
   "metadata": {},
   "outputs": [
    {
     "data": {
      "text/plain": [
       "DecisionTreeClassifier(max_depth=4, min_samples_leaf=2, min_samples_split=4)"
      ]
     },
     "execution_count": 86,
     "metadata": {},
     "output_type": "execute_result"
    }
   ],
   "source": [
    "decision_tree_model.fit(X_train, y_train)"
   ]
  },
  {
   "cell_type": "code",
   "execution_count": 87,
   "id": "dcaedc9f",
   "metadata": {},
   "outputs": [],
   "source": [
    "y_pred_dt=decision_tree_model.predict(X_test)"
   ]
  },
  {
   "cell_type": "code",
   "execution_count": 88,
   "id": "cca62e31",
   "metadata": {},
   "outputs": [],
   "source": [
    "dt_accuracy = accuracy_score(y_test, y_pred_dt)\n",
    "dt_conf_matrix = confusion_matrix(y_test, y_pred_dt)\n",
    "dt_classification_rep = classification_report(y_test, y_pred_dt)"
   ]
  },
  {
   "cell_type": "code",
   "execution_count": 94,
   "id": "f7341e6f",
   "metadata": {},
   "outputs": [
    {
     "name": "stdout",
     "output_type": "stream",
     "text": [
      "dt_Accuracy: 0.98\n",
      "\n",
      "dt_Confusion Matrix:\n",
      "[[ 98   3]\n",
      " [  3 160]]\n",
      "\n",
      "dt_Classification Report:\n"
     ]
    }
   ],
   "source": [
    "print(f'dt_Accuracy: {dt_accuracy:.2f}')\n",
    "print('\\ndt_Confusion Matrix:')\n",
    "print(dt_conf_matrix)\n",
    "print('\\ndt_Classification Report:')"
   ]
  },
  {
   "cell_type": "code",
   "execution_count": 95,
   "id": "267e6d8f",
   "metadata": {},
   "outputs": [
    {
     "data": {
      "text/plain": [
       "<AxesSubplot:>"
      ]
     },
     "execution_count": 95,
     "metadata": {},
     "output_type": "execute_result"
    },
    {
     "data": {
      "image/png": "[encoded data removed]",
      "text/plain": [
       "<Figure size 432x288 with 2 Axes>"
      ]
     },
     "metadata": {
      "needs_background": "light"
     },
     "output_type": "display_data"
    }
   ],
   "source": [
    "sns.heatmap(dt_conf_matrix, annot=True)"
   ]
  },
  {
   "cell_type": "markdown",
   "id": "462780e0",
   "metadata": {},
   "source": [
    "# KNN Model"
   ]
  },
  {
   "cell_type": "code",
   "execution_count": 96,
   "id": "d8b0d289",
   "metadata": {},
   "outputs": [],
   "source": [
    "from sklearn.neighbors import KNeighborsClassifier"
   ]
  },
  {
   "cell_type": "code",
   "execution_count": 97,
   "id": "067e2fd7",
   "metadata": {},
   "outputs": [],
   "source": [
    "my_params={'n_neighbors':[3,5,7,9,1],\n",
    "         'p':[1,2,3]}"
   ]
  },
  {
   "cell_type": "code",
   "execution_count": 98,
   "id": "f533cd8a",
   "metadata": {},
   "outputs": [],
   "source": [
    "knn=KNeighborsClassifier()\n",
    "knngrid=GridSearchCV(knn,my_params,cv=5).fit(X_train,y_train)"
   ]
  },
  {
   "cell_type": "code",
   "execution_count": 100,
   "id": "e59e8414",
   "metadata": {},
   "outputs": [
    {
     "data": {
      "text/plain": [
       "{'n_neighbors': 9, 'p': 2}"
      ]
     },
     "execution_count": 100,
     "metadata": {},
     "output_type": "execute_result"
    }
   ],
   "source": [
    "knngrid.best_params_"
   ]
  },
  {
   "cell_type": "code",
   "execution_count": 101,
   "id": "df28cb78",
   "metadata": {},
   "outputs": [],
   "source": [
    "model=KNeighborsClassifier(n_neighbors = 9, p=2)\n",
    "model.fit_transform(X_train, y_train)\n",
    "y_pred=model.predict(X_test)"
   ]
  },
  {
   "cell_type": "code",
   "execution_count": 102,
   "id": "0b08bdce",
   "metadata": {},
   "outputs": [],
   "source": [
    "accuracy = accuracy_score(y_test, y_pred)\n",
    "conf_matrix = confusion_matrix(y_test, y_pred)\n",
    "classification_rep = classification_report(y_test, y_pred)"
   ]
  },
  {
   "cell_type": "code",
   "execution_count": 103,
   "id": "24461d18",
   "metadata": {},
   "outputs": [
    {
     "name": "stdout",
     "output_type": "stream",
     "text": [
      "Accuracy: 0.62\n",
      "\n",
      "Confusion Matrix:\n",
      "[[ 49  52]\n",
      " [ 47 116]]\n",
      "\n",
      "Classification Report:\n",
      "              precision    recall  f1-score   support\n",
      "\n",
      "           0       0.51      0.49      0.50       101\n",
      "           1       0.69      0.71      0.70       163\n",
      "\n",
      "    accuracy                           0.62       264\n",
      "   macro avg       0.60      0.60      0.60       264\n",
      "weighted avg       0.62      0.62      0.62       264\n",
      "\n"
     ]
    }
   ],
   "source": [
    "print(f'Accuracy: {accuracy:.2f}')\n",
    "print('\\nConfusion Matrix:')\n",
    "print(conf_matrix)\n",
    "print('\\nClassification Report:')\n",
    "print(classification_rep)"
   ]
  },
  {
   "cell_type": "markdown",
   "id": "45b4b7e8",
   "metadata": {},
   "source": [
    "# system evaluation"
   ]
  },
  {
   "cell_type": "code",
   "execution_count": 105,
   "id": "cf8d2b9a",
   "metadata": {},
   "outputs": [
    {
     "name": "stdout",
     "output_type": "stream",
     "text": [
      "[0]\n",
      "The Person does not have a Heart Disease\n"
     ]
    },
    {
     "name": "stderr",
     "output_type": "stream",
     "text": [
      "C:\\Users\\user\\anaconda\\lib\\site-packages\\sklearn\\base.py:450: UserWarning: X does not have valid feature names, but RandomForestClassifier was fitted with feature names\n",
      "  warnings.warn(\n"
     ]
    }
   ],
   "source": [
    "input_data = (64,1,66,160,83,160.0,1.80,0.012)\n",
    "\n",
    "# change the input data to a numpy array\n",
    "input_data_as_numpy_array= np.asarray(input_data)\n",
    "\n",
    "# reshape the numpy array as we are predicting for only on instance\n",
    "input_data_reshaped = input_data_as_numpy_array.reshape(1,-1)\n",
    "\n",
    "prediction = randomforestmodel.predict(input_data_reshaped)\n",
    "print(prediction)\n",
    "\n",
    "if (prediction[0]== 0):\n",
    "  print('The Person does not have a Heart Disease')\n",
    "else:\n",
    "  print('The Person has Heart Disease')"
   ]
  },
  {
   "cell_type": "code",
   "execution_count": null,
   "id": "26df0810",
   "metadata": {},
   "outputs": [],
   "source": []
  }
 ],
 "metadata": {
  "kernelspec": {
   "display_name": "Python 3 (ipykernel)",
   "language": "python",
   "name": "python3"
  },
  "language_info": {
   "codemirror_mode": {
    "name": "ipython",
    "version": 3
   },
   "file_extension": ".py",
   "mimetype": "text/x-python",
   "name": "python",
   "nbconvert_exporter": "python",
   "pygments_lexer": "ipython3",
   "version": "3.9.12"
  }
 },
 "nbformat": 4,
 "nbformat_minor": 5
}
